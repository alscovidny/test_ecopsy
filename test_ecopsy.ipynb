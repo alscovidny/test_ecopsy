{
 "cells": [
  {
   "cell_type": "markdown",
   "id": "907a9fb0",
   "metadata": {},
   "source": [
    "Импортируем библиотеки."
   ]
  },
  {
   "cell_type": "code",
   "execution_count": null,
   "id": "da0aeda0",
   "metadata": {},
   "outputs": [],
   "source": [
    "import numpy as np\n",
    "import pandas as pd\n",
    "import sys\n",
    "import warnings\n",
    "\n",
    "warnings.filterwarnings('ignore')"
   ]
  },
  {
   "cell_type": "code",
   "execution_count": null,
   "id": "1a92e02c",
   "metadata": {},
   "outputs": [],
   "source": [
    "main_df = pd.read_excel('Задание 5.0 2 версия.xlsx')\n",
    "main_df\n",
    "main_df[main_df['Профессия'] == 'Уборщик'] "
   ]
  },
  {
   "cell_type": "code",
   "execution_count": null,
   "id": "635eb23a",
   "metadata": {},
   "outputs": [],
   "source": [
    "# main_df['Оборудование'].value_counts()\n",
    "main_df['Профессия'].values"
   ]
  },
  {
   "cell_type": "markdown",
   "id": "a2f01f6b",
   "metadata": {},
   "source": [
    "#### подумай: а оно надо?\n",
    "\n",
    "\n",
    "Преобразование месяцев в числа. Заметим что все месяцы даны в формате timestamp, их диапазон от января по декабрь 2009 года (то есть данные приведены за один год, что сильно упрощает задачу)"
   ]
  },
  {
   "cell_type": "code",
   "execution_count": null,
   "id": "1981ea29",
   "metadata": {},
   "outputs": [],
   "source": [
    "main_df['Месяц'].max(), main_df['Месяц'].min()"
   ]
  },
  {
   "cell_type": "markdown",
   "id": "2045f7cb",
   "metadata": {},
   "source": [
    "С целью небольшой экономии памяти заменим месяцы в формате timesamp на числа формата int в диапазоне от 1 до 12."
   ]
  },
  {
   "cell_type": "code",
   "execution_count": null,
   "id": "a3326f11",
   "metadata": {},
   "outputs": [],
   "source": [
    "for j in range(len(main_df['Месяц'])):\n",
    "    main_df['Месяц'][j] = main_df['Месяц'][j].month"
   ]
  },
  {
   "cell_type": "code",
   "execution_count": null,
   "id": "5ea0575a",
   "metadata": {},
   "outputs": [],
   "source": [
    "import seaborn as sns\n",
    "import matplotlib.pyplot as plt\n",
    "\n",
    "# sns.barplot(y = \"Профессия\", x = \"Доход\",data = main_df)"
   ]
  },
  {
   "cell_type": "code",
   "execution_count": null,
   "id": "2956379a",
   "metadata": {},
   "outputs": [],
   "source": [
    "# sns.barplot(y = \"Оборудование\", x = \"Вредность (балл.)\",data = main_df)"
   ]
  },
  {
   "cell_type": "code",
   "execution_count": null,
   "id": "92f6de08",
   "metadata": {},
   "outputs": [],
   "source": [
    "# sns.barplot(y = \"Оборудование\", x = \"Доход\",data = main_df)"
   ]
  },
  {
   "cell_type": "code",
   "execution_count": null,
   "id": "ddfd34db",
   "metadata": {},
   "outputs": [],
   "source": [
    "pd.unique(main_df['Профессия'].values)"
   ]
  },
  {
   "cell_type": "markdown",
   "id": "cd766b34",
   "metadata": {},
   "source": [
    "Здесь мы пытаемся объединить профессии по группам."
   ]
  },
  {
   "cell_type": "code",
   "execution_count": null,
   "id": "511733db",
   "metadata": {},
   "outputs": [],
   "source": [
    "# Попробуем объединить группы по признаку\n",
    "\n",
    "prof_group = (\n",
    "    {\n",
    "        'Оператор поста управления', \n",
    "        'Подручный вальцовщика',       # группа 1\n",
    "        'Резчик горячего металла',\n",
    "        'Огнеупорщик'\n",
    "    },\n",
    "    \n",
    "    {\n",
    "        'Вальцовщик',\n",
    "        'Нагревальщик металла',        # группа 2\n",
    "        'Контролер качества готовой продукции'\n",
    "    },\n",
    "    \n",
    "    {\n",
    "        'Уборщик'                      # группа 3\n",
    "    },\n",
    "    \n",
    "    {\n",
    "         'Посадчик металла'            # группа 4\n",
    "    }\n",
    ")\n",
    "\n",
    "\n",
    "for i, group in enumerate(prof_group):\n",
    "    main_df['Профессия'][main_df['Профессия'].isin(group)] = f'group_{i+1}'"
   ]
  },
  {
   "cell_type": "code",
   "execution_count": null,
   "id": "62eed0fc",
   "metadata": {},
   "outputs": [],
   "source": [
    "equipment_group = (\n",
    "    {\n",
    "        'Пилигримовые станы', \n",
    "        'Калибровочный стан',       # группа 1\n",
    "        'Калибровочный стан, ГРП',\n",
    "    },\n",
    "    \n",
    "    {\n",
    "        'Нагревательные печи, нагрев',\n",
    "        'Нагревательные печи',        # группа 2\n",
    "        'Нагревательные печи, кантовка'\n",
    "    },\n",
    "    \n",
    "    {\n",
    "        'Контрольно-измерительная аппаратура',\n",
    "        'Прошивной стан'# группа 3\n",
    "    },\n",
    "    \n",
    "    {\n",
    "         'Вспомогательные помещения'            # группа 4\n",
    "    }\n",
    ")\n",
    "\n",
    "# pd.unique(main_df['Оборудование'].values)\n",
    "\n",
    "for i, group in enumerate(equipment_group):\n",
    "    main_df['Оборудование'][main_df['Оборудование'].isin(group)] = f'equipment_{i+1}'"
   ]
  },
  {
   "cell_type": "code",
   "execution_count": null,
   "id": "8de4b881",
   "metadata": {},
   "outputs": [],
   "source": [
    "main_df"
   ]
  },
  {
   "cell_type": "markdown",
   "id": "73e34c90",
   "metadata": {},
   "source": [
    "Уберем из датафрейма месяцы и имена. Грубо приблизим, что оклад платится не подневно, а помесячно (то есть оклад не зависит от количества дней в месяце)."
   ]
  },
  {
   "cell_type": "code",
   "execution_count": null,
   "id": "dd53b742",
   "metadata": {},
   "outputs": [],
   "source": [
    "anon_df = main_df.drop(columns = ['FIO', 'Месяц', 'Оборудование'])"
   ]
  },
  {
   "cell_type": "code",
   "execution_count": null,
   "id": "7c2e4273",
   "metadata": {},
   "outputs": [],
   "source": [
    "if 'Профессия' in  anon_df.columns or 'Оборудование' in anon_df.columns:\n",
    "#     anon_df = pd.get_dummies(anon_df, columns = ['Профессия', 'Оборудование'])\n",
    "     anon_df = pd.get_dummies(anon_df, columns = ['Профессия'])\n",
    "anon_df"
   ]
  },
  {
   "cell_type": "markdown",
   "id": "d9b3d14d",
   "metadata": {},
   "source": [
    "Обучим в первом приближении"
   ]
  },
  {
   "cell_type": "code",
   "execution_count": null,
   "id": "98628d42",
   "metadata": {},
   "outputs": [],
   "source": [
    "from sklearn.ensemble import RandomForestRegressor\n",
    "from sklearn.linear_model import LinearRegression, ElasticNetCV\n",
    "from sklearn.model_selection import train_test_split\n",
    "from sklearn.metrics import r2_score\n",
    "from sklearn.preprocessing import StandardScaler\n",
    "\n",
    "scaler = StandardScaler()\n",
    "\n",
    "y_anon_df = anon_df['Доход']\n",
    "X_anon_df = anon_df.drop(columns = ['Доход'])\n",
    "X_ = X_anon_df\n",
    "# X_= scaler.fit_transform(X_anon_df)\n",
    "\n",
    "regr = LinearRegression(positive = True)\n",
    "regr.fit(X_, y_anon_df)\n",
    "\n",
    "regr.intercept_, regr.coef_\n",
    "\n",
    "# pd.DataFrame([regr.feature_names_in_, regr.coef_]).T"
   ]
  },
  {
   "cell_type": "code",
   "execution_count": null,
   "id": "c0c565ba",
   "metadata": {},
   "outputs": [],
   "source": [
    "df"
   ]
  },
  {
   "cell_type": "code",
   "execution_count": null,
   "id": "44a46f07",
   "metadata": {},
   "outputs": [],
   "source": []
  }
 ],
 "metadata": {
  "kernelspec": {
   "display_name": "Python 3 (ipykernel)",
   "language": "python",
   "name": "python3"
  },
  "language_info": {
   "codemirror_mode": {
    "name": "ipython",
    "version": 3
   },
   "file_extension": ".py",
   "mimetype": "text/x-python",
   "name": "python",
   "nbconvert_exporter": "python",
   "pygments_lexer": "ipython3",
   "version": "3.8.3"
  }
 },
 "nbformat": 4,
 "nbformat_minor": 5
}
